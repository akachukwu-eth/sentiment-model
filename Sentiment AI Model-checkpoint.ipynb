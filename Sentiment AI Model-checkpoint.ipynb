{
 "cells": [
  {
   "cell_type": "code",
   "execution_count": 53,
   "id": "53019931",
   "metadata": {},
   "outputs": [
    {
     "ename": "SyntaxError",
     "evalue": "unterminated string literal (detected at line 61) (1431876659.py, line 61)",
     "output_type": "error",
     "traceback": [
      "\u001b[1;36m  Cell \u001b[1;32mIn[53], line 61\u001b[1;36m\u001b[0m\n\u001b[1;33m    print(\"Accuracy: %, acc + \"\"%\"\")\u001b[0m\n\u001b[1;37m                                  ^\u001b[0m\n\u001b[1;31mSyntaxError\u001b[0m\u001b[1;31m:\u001b[0m unterminated string literal (detected at line 61)\n"
     ]
    }
   ],
   "source": [
    "import numpy as np\n",
    "from sklearn.datasets import load_files\n",
    "from sklearn.feature_extraction.text import TfidfVectorizer\n",
    "from sklearn.svm import LinearSVC\n",
    "from sklearn.metrics import accuracy_score\n",
    "import re\n",
    "\n",
    "# Load the IMDB movie review dataset\n",
    "reviews_train = load_files(r\"C:\\Users\\Akachukwu Egboluche\\Downloads\\aclImdb\\train\")\n",
    "\n",
    "# Preprocess function to clean and normalize the text data\n",
    "def preprocess(text):\n",
    "    # Convert bytes to string if necessary\n",
    "    if isinstance(text, bytes):\n",
    "        text = text.decode('utf-8')\n",
    "    \n",
    "    # Convert to lowercase\n",
    "    text = text.lower()\n",
    "    \n",
    "    # Remove HTML tags\n",
    "    text = re.sub(r'<[^>]+>', '', text)\n",
    "    \n",
    "    # Remove non-alphabetic characters\n",
    "    text = re.sub(r'[^a-zA-Z]', ' ', text)\n",
    "    \n",
    "    # Return preprocessed text\n",
    "    return text\n",
    "\n",
    "# Preprocess the training data\n",
    "reviews_train_preprocessed = [preprocess(text) for text in reviews_train.data]\n",
    "\n",
    "# Create a TF-IDF representation of the preprocessed training data\n",
    "vectorizer = TfidfVectorizer(stop_words='english')\n",
    "X_train = vectorizer.fit_transform(reviews_train_preprocessed)\n",
    "\n",
    "# Get the binary labels for the training data (1 for positive, 0 for negative)\n",
    "train_labels = np.array(reviews_train.target)\n",
    "\n",
    "# Train the model on the preprocessed training data\n",
    "clf = LinearSVC()\n",
    "clf.fit(X_train, train_labels)\n",
    "\n",
    "# Load the test data\n",
    "reviews_test = load_files(r\"C:\\Users\\Akachukwu Egboluche\\Downloads\\aclImdb\\test\")\n",
    "\n",
    "# Preprocess the test data\n",
    "reviews_test_preprocessed = [preprocess(text) for text in reviews_test.data]\n",
    "\n",
    "# Create a TF-IDF representation of the preprocessed test data\n",
    "X_test = vectorizer.transform(reviews_test_preprocessed)\n",
    "\n",
    "# Get the binary labels for the test data (1 for positive, 0 for negative)\n",
    "test_labels = np.array(reviews_test.target)\n",
    "\n",
    "# Predict the labels for the test data using the trained model\n",
    "pred_labels = clf.predict(X_test)\n",
    "\n",
    "# Compute the accuracy of the model on the test data\n",
    "acc = accuracy_score(test_labels, pred_labels)\n",
    "\n",
    "print(\"Accuracy: %, acc + \"\"%\"\")\n"
   ]
  },
  {
   "cell_type": "code",
   "execution_count": null,
   "id": "d1da35ce",
   "metadata": {},
   "outputs": [],
   "source": []
  }
 ],
 "metadata": {
  "kernelspec": {
   "display_name": "Python 3 (ipykernel)",
   "language": "python",
   "name": "python3"
  },
  "language_info": {
   "codemirror_mode": {
    "name": "ipython",
    "version": 3
   },
   "file_extension": ".py",
   "mimetype": "text/x-python",
   "name": "python",
   "nbconvert_exporter": "python",
   "pygments_lexer": "ipython3",
   "version": "3.11.0"
  }
 },
 "nbformat": 4,
 "nbformat_minor": 5
}
