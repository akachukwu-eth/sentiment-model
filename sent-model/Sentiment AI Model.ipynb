{
 "cells": [
  {
   "cell_type": "code",
   "execution_count": 69,
   "id": "53019931",
   "metadata": {},
   "outputs": [
    {
     "name": "stdout",
     "output_type": "stream",
     "text": [
      "Accuracy: 25.0 %\n"
     ]
    }
   ],
   "source": [
    "import numpy as np\n",
    "from sklearn.datasets import load_files\n",
    "from sklearn.feature_extraction.text import TfidfVectorizer\n",
    "from sklearn.svm import LinearSVC\n",
    "from sklearn.metrics import accuracy_score\n",
    "import re\n",
    "\n",
    "# Load the IMDB movie review dataset\n",
    "reviews_train = load_files(r\"C:\\Users\\Akachukwu Egboluche\\Downloads\\aclImdb\\train\")\n",
    "\n",
    "# Preprocess function to clean and normalize the text data\n",
    "def preprocess(text):\n",
    "    # Convert bytes to string if necessary\n",
    "    if isinstance(text, bytes):\n",
    "        text = text.decode('utf-8')\n",
    "    \n",
    "    # Convert to lowercase\n",
    "    text = text.lower()\n",
    "    \n",
    "    # Remove HTML tags\n",
    "    text = re.sub(r'<[^>]+>', '', text)\n",
    "    \n",
    "    # Remove non-alphabetic characters\n",
    "    text = re.sub(r'[^a-zA-Z]', ' ', text)\n",
    "    \n",
    "    # Return preprocessed text\n",
    "    return text\n",
    "\n",
    "# Preprocess the training data\n",
    "reviews_train_preprocessed = [preprocess(text) for text in reviews_train.data]\n",
    "\n",
    "# Create a TF-IDF representation of the preprocessed training data\n",
    "vectorizer = TfidfVectorizer(stop_words='english')\n",
    "X_train = vectorizer.fit_transform(reviews_train_preprocessed)\n",
    "\n",
    "# Get the binary labels for the training data (1 for positive, 0 for negative)\n",
    "train_labels = np.array(reviews_train.target)\n",
    "\n",
    "# Train the model on the preprocessed training data\n",
    "clf = LinearSVC()\n",
    "clf.fit(X_train, train_labels)\n",
    "\n",
    "# Load the test data\n",
    "reviews_test = load_files(r\"C:\\Users\\Akachukwu Egboluche\\Downloads\\aclImdb\\test\")\n",
    "\n",
    "# Preprocess the test data\n",
    "reviews_test_preprocessed = [preprocess(text) for text in reviews_test.data]\n",
    "\n",
    "# Create a TF-IDF representation of the preprocessed test data\n",
    "X_test = vectorizer.transform(reviews_test_preprocessed)\n",
    "\n",
    "# Get the binary labels for the test data (1 for positive, 0 for negative)\n",
    "test_labels = np.array(reviews_test.target)\n",
    "\n",
    "# Predict the labels for the test data using the trained model\n",
    "pred_labels = clf.predict(X_test)\n",
    "\n",
    "# Compute the accuracy of the model on the test data\n",
    "acc = accuracy_score(test_labels, pred_labels)\n",
    "\n",
    "print(\"Accuracy:\", acc * 100,\"%\")\n"
   ]
  },
  {
   "cell_type": "code",
   "execution_count": 68,
   "id": "61f606ec",
   "metadata": {
    "scrolled": true
   },
   "outputs": [
    {
     "name": "stdout",
     "output_type": "stream",
     "text": [
      "This movie was amazing, I can't wait to watch it again! --> Negative\n",
      "What a waste of time, I regret watching this movie. --> Negative\n",
      "The storyline was intriguing and kept me engaged throughout the movie. --> Negative\n",
      "This movie was a total letdown, the trailer was much better. --> Negative\n",
      "The actors did a fantastic job, I was thoroughly impressed. --> Positive\n",
      "I had high hopes for this movie, but it fell short of my expectations. --> Positive\n",
      "I couldn't take my eyes off the screen, this movie was captivating. --> Negative\n",
      "I found the plot confusing and hard to follow. --> Negative\n",
      "This movie was a rollercoaster of emotions, I laughed and cried throughout. --> Negative\n",
      "The special effects were impressive, but the plot lacked substance. --> Negative\n",
      "[0 0 0 0 1 1 0 0 0 0]\n"
     ]
    }
   ],
   "source": [
    "# Load new data\n",
    "new_reviews = [    \"This movie was amazing, I can't wait to watch it again!\",    \"What a waste of time, I regret watching this movie.\",    \"The storyline was intriguing and kept me engaged throughout the movie.\",    \"This movie was a total letdown, the trailer was much better.\",    \"The actors did a fantastic job, I was thoroughly impressed.\",    \"I had high hopes for this movie, but it fell short of my expectations.\",    \"I couldn't take my eyes off the screen, this movie was captivating.\",    \"I found the plot confusing and hard to follow.\",    \"This movie was a rollercoaster of emotions, I laughed and cried throughout.\",    \"The special effects were impressive, but the plot lacked substance.\"]\n",
    "\n",
    "# Preprocess the new data\n",
    "new_reviews_preprocessed = [preprocess(text) for text in new_reviews]\n",
    "\n",
    "# Transform the preprocessed new data using the vectorizer\n",
    "X_new = vectorizer.transform(new_reviews_preprocessed)\n",
    "\n",
    "# Predict the labels for the new data using the trained classifier\n",
    "pred_labels_new = clf.predict(X_new)\n",
    "\n",
    "# Print the predicted labels and corresponding reviews\n",
    "for i in range(len(new_reviews)):\n",
    "    review = new_reviews[i]\n",
    "    label = pred_labels_new[i]\n",
    "    if label == 1:\n",
    "        print(review, \"--> Positive\")\n",
    "    else:\n",
    "        print(review, \"--> Negative\")\n",
    "\n",
    "# Print the predicted labels \n",
    "print(pred_labels_new)\n"
   ]
  },
  {
   "cell_type": "code",
   "execution_count": null,
   "id": "8eb200c9",
   "metadata": {},
   "outputs": [],
   "source": []
  }
 ],
 "metadata": {
  "kernelspec": {
   "display_name": "Python 3 (ipykernel)",
   "language": "python",
   "name": "python3"
  },
  "language_info": {
   "codemirror_mode": {
    "name": "ipython",
    "version": 3
   },
   "file_extension": ".py",
   "mimetype": "text/x-python",
   "name": "python",
   "nbconvert_exporter": "python",
   "pygments_lexer": "ipython3",
   "version": "3.11.0"
  }
 },
 "nbformat": 4,
 "nbformat_minor": 5
}
